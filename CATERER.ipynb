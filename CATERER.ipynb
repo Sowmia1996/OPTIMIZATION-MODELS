{
 "cells": [
  {
   "cell_type": "markdown",
   "metadata": {},
   "source": [
    "### CASE STUDY PROBLEMS\n",
    "### SUBMITTED BY: M.SOWMIA\n",
    "### ROLL NO :  MA19M020"
   ]
  },
  {
   "cell_type": "markdown",
   "metadata": {},
   "source": [
    "### PROBLEM:3 THE CRATERER PROBLEM"
   ]
  },
  {
   "cell_type": "code",
   "execution_count": 1,
   "metadata": {},
   "outputs": [
    {
     "name": "stdout",
     "output_type": "stream",
     "text": [
      "Optimization terminated successfully.    (Exit mode 0)\n",
      "            Current function value: 6.971610165086427e-11\n",
      "            Iterations: 5\n",
      "            Function evaluations: 110\n",
      "            Gradient evaluations: 5\n",
      "Optimization terminated successfully.    (Exit mode 0)\n",
      "            Current function value: 0.0\n",
      "            Iterations: 6\n",
      "            Function evaluations: 300\n",
      "            Gradient evaluations: 6\n",
      "Optimization terminated successfully.    (Exit mode 0)\n",
      "            Current function value: 1.330600218000962e-09\n",
      "            Iterations: 6\n",
      "            Function evaluations: 372\n",
      "            Gradient evaluations: 6\n",
      "Optimization terminated successfully.    (Exit mode 0)\n",
      "            Current function value: 4.604183365354656e-10\n",
      "            Iterations: 6\n",
      "            Function evaluations: 492\n",
      "            Gradient evaluations: 6\n",
      "Optimization terminated successfully.    (Exit mode 0)\n",
      "            Current function value: 3.8570615434435655e-09\n",
      "            Iterations: 6\n",
      "            Function evaluations: 540\n",
      "            Gradient evaluations: 6\n",
      "Optimization terminated successfully.    (Exit mode 0)\n",
      "            Current function value: 3.14650534621497e-09\n",
      "            Iterations: 6\n",
      "            Function evaluations: 612\n",
      "            Gradient evaluations: 6\n"
     ]
    }
   ],
   "source": [
    "                                            #THE CATERER PROBLEM\n",
    "                             #SOVED USING SIMPLE LINEAR OPTIMIZATOIN CONSTRAINTS\n",
    "\n",
    "import numpy as np\n",
    "from scipy.optimize import minimize\n",
    "#for different number of days\n",
    "M=[5,12,15,20,22,25]\n",
    "for n in M:\n",
    "    #initilaising suitable values of(a,b,c,p,q)\n",
    "    a=7 #cost of buying new \n",
    "    b=1 #cost of normal service\n",
    "    c=3 #cost of fast-service\n",
    "    p=4 #days req for normal service\n",
    "    q=2 #days req for fast service\n",
    "\n",
    "\n",
    "\n",
    "    initial=[]\n",
    "        #initilaising X,Y,Z,S\n",
    "    for i in range(4*n):\n",
    "        initial.append(2)\n",
    "\n",
    "\n",
    "    cons=[]\n",
    "\n",
    "    #creating constraints for the problem\n",
    "    def constraints(values):\n",
    "        F=[]\n",
    "        F.append(values[n+0]+values[2*n+0]-values[i])\n",
    "        for j in range(1,q):\n",
    "             F.append(values[n+j]+values[2*n+j]+values[3*n+j-1]-values[j])\n",
    "\n",
    "        for j in range(q,p):\n",
    "             F.append(values[n+j]+values[2*n+j]+values[3*n+j-1]-values[j]-values[2*n+j-q])\n",
    "\n",
    "        for j in range(p,n):\n",
    "             F.append(values[n+j]+values[2*n+j]+values[3*n+j-1]-values[j]-values[2*n+j-q]-values[n+j-p])\n",
    "        return F\n",
    "\n",
    "\n",
    "    cons.append({'type': 'eq', 'fun':constraints})\n",
    "\n",
    "\n",
    "    #putting the objective function that has to be minimised\n",
    "    def objectivecost(values):\n",
    "        cratererobjective=0\n",
    "        for j in range(n):\n",
    "            cratererobjective += (a*values[j]+b*values[n+j]+c*values[2*n+j])\n",
    "        return cratererobjective\n",
    "\n",
    "\n",
    "    #giving bounds for variables    \n",
    "    bnds=[]\n",
    "    for j in range(4*n):\n",
    "        bnds.append((0,None))\n",
    "\n",
    "    soln=minimize(objectivecost,initial,method='SLSQP',constraints=cons,bounds=bnds,options={'disp':True})\n"
   ]
  }
 ],
 "metadata": {
  "kernelspec": {
   "display_name": "Python 3",
   "language": "python",
   "name": "python3"
  },
  "language_info": {
   "codemirror_mode": {
    "name": "ipython",
    "version": 3
   },
   "file_extension": ".py",
   "mimetype": "text/x-python",
   "name": "python",
   "nbconvert_exporter": "python",
   "pygments_lexer": "ipython3",
   "version": "3.7.3"
  }
 },
 "nbformat": 4,
 "nbformat_minor": 2
}
